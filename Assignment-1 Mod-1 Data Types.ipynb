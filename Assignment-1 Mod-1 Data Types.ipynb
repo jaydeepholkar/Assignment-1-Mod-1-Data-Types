{
 "cells": [
  {
   "cell_type": "markdown",
   "metadata": {
    "id": "VyM0stt3oNjv"
   },
   "source": [
    "## Module1: Data Types"
   ]
  },
  {
   "cell_type": "markdown",
   "metadata": {
    "id": "2oCUd07QoNj1"
   },
   "source": [
    "#### 1. Construct 2 lists containing all the available data types (interger, float, string, complex, and boolean) and do the following\n",
    "    #### a. Create another list by concatenating above 2 lists\n",
    "    #### b. Find the frequency of each element in the concatenated list\n",
    "    #### c. Print the list in reverse order"
   ]
  },
  {
   "cell_type": "code",
   "execution_count": 4,
   "metadata": {
    "executionInfo": {
     "elapsed": 381,
     "status": "ok",
     "timestamp": 1644563947172,
     "user": {
      "displayName": "Srinivas Valupadasu",
      "photoUrl": "https://lh3.googleusercontent.com/a/default-user=s64",
      "userId": "05503141691489393791"
     },
     "user_tz": -330
    },
    "id": "KUindfRgoNj3"
   },
   "outputs": [],
   "source": [
    "list1 = [5, 5, \"Aish\", (2+3j), True]\n",
    "list2 = [2, 2.3, \"Snehal\", (3+4j), False]"
   ]
  },
  {
   "cell_type": "code",
   "execution_count": 5,
   "metadata": {
    "colab": {
     "base_uri": "https://localhost:8080/"
    },
    "executionInfo": {
     "elapsed": 589,
     "status": "ok",
     "timestamp": 1644563949676,
     "user": {
      "displayName": "Srinivas Valupadasu",
      "photoUrl": "https://lh3.googleusercontent.com/a/default-user=s64",
      "userId": "05503141691489393791"
     },
     "user_tz": -330
    },
    "id": "Q5R2vcakoNj5",
    "outputId": "03b288f7-a086-4463-c169-feae2b793a8c"
   },
   "outputs": [
    {
     "name": "stdout",
     "output_type": "stream",
     "text": [
      "[5, 5, 'Aish', (2+3j), True, 2, 2.3, 'Snehal', (3+4j), False]\n"
     ]
    }
   ],
   "source": [
    "# a. Create another list by concatenating above 2 lists\n",
    "list3 = list1 + list2\n",
    "print(list3)"
   ]
  },
  {
   "cell_type": "code",
   "execution_count": 6,
   "metadata": {
    "colab": {
     "base_uri": "https://localhost:8080/"
    },
    "executionInfo": {
     "elapsed": 598,
     "status": "ok",
     "timestamp": 1644563952373,
     "user": {
      "displayName": "Srinivas Valupadasu",
      "photoUrl": "https://lh3.googleusercontent.com/a/default-user=s64",
      "userId": "05503141691489393791"
     },
     "user_tz": -330
    },
    "id": "2fanSMdOoNj6",
    "outputId": "5f4c26f6-2e11-462f-e045-a1d1e235f550"
   },
   "outputs": [
    {
     "name": "stdout",
     "output_type": "stream",
     "text": [
      "5:2\n",
      "Aish:1\n",
      "(2+3j):1\n",
      "True:1\n",
      "2:1\n",
      "2.3:1\n",
      "Snehal:1\n",
      "(3+4j):1\n",
      "False:1\n"
     ]
    }
   ],
   "source": [
    "# b. Find the frequency of each element in the concatenated list\n",
    "def CountFrequency(x):\n",
    "    freq = {}\n",
    "    for item in list3:\n",
    "        if item in freq:\n",
    "            freq[item] += 1\n",
    "        else:\n",
    "            freq[item] = 1\n",
    "    for key, value in freq.items():\n",
    "        print('%s:%s' %(key, value))\n",
    "CountFrequency(list3)"
   ]
  },
  {
   "cell_type": "code",
   "execution_count": 7,
   "metadata": {
    "colab": {
     "base_uri": "https://localhost:8080/"
    },
    "executionInfo": {
     "elapsed": 635,
     "status": "ok",
     "timestamp": 1644564178837,
     "user": {
      "displayName": "Srinivas Valupadasu",
      "photoUrl": "https://lh3.googleusercontent.com/a/default-user=s64",
      "userId": "05503141691489393791"
     },
     "user_tz": -330
    },
    "id": "O9SG640ooNj7",
    "outputId": "7e56a844-5d78-4e9a-8c72-0acc903ddc2e"
   },
   "outputs": [
    {
     "name": "stdout",
     "output_type": "stream",
     "text": [
      "[False, (3+4j), 'Snehal', 2.3, 2, True, (2+3j), 'Aish', 5, 5]\n"
     ]
    }
   ],
   "source": [
    "# c. Print the list in reverse order\n",
    "print(list3[::-1])"
   ]
  },
  {
   "cell_type": "code",
   "execution_count": 8,
   "metadata": {
    "colab": {
     "base_uri": "https://localhost:8080/"
    },
    "executionInfo": {
     "elapsed": 343,
     "status": "ok",
     "timestamp": 1644564185220,
     "user": {
      "displayName": "Srinivas Valupadasu",
      "photoUrl": "https://lh3.googleusercontent.com/a/default-user=s64",
      "userId": "05503141691489393791"
     },
     "user_tz": -330
    },
    "id": "8qxUVxmKoNj8",
    "outputId": "ff6ed20e-dec1-45d4-cf9a-ef69a0a669e1"
   },
   "outputs": [
    {
     "data": {
      "text/plain": [
       "[5, 5, 'Aish', (2+3j), True, 2, 2.3, 'Snehal', (3+4j), False]"
      ]
     },
     "execution_count": 8,
     "metadata": {},
     "output_type": "execute_result"
    }
   ],
   "source": [
    "list3"
   ]
  },
  {
   "cell_type": "markdown",
   "metadata": {
    "id": "oZc67urIoNj9"
   },
   "source": [
    "## Problem 2"
   ]
  },
  {
   "cell_type": "markdown",
   "metadata": {
    "id": "6vg6fL4QoNj-"
   },
   "source": [
    "#### Create 2 sets containing intergers (numbers from 1 to 10 in one set and 5 to 15 in other set).\n",
    "#### a. Find the common elements in above 2 sets\n",
    "#### b. Find the elements that are not common\n",
    "#### c. Remove element 7 from both the sets"
   ]
  },
  {
   "cell_type": "code",
   "execution_count": null,
   "metadata": {
    "id": "6_HBY8fuoNj_"
   },
   "outputs": [],
   "source": [
    "set1 = {1,2,3,4,5,6,7,8,9,10}\n",
    "print(set1)"
   ]
  },
  {
   "cell_type": "code",
   "execution_count": null,
   "metadata": {
    "id": "g6n_Cq_HoNj_"
   },
   "outputs": [],
   "source": [
    "set2 = {5,6,7,8,9,10,11,12,13,14,15}\n",
    "print(set2)"
   ]
  },
  {
   "cell_type": "code",
   "execution_count": null,
   "metadata": {
    "id": "yCpcpMdcoNkA"
   },
   "outputs": [],
   "source": [
    "# a. Find the common elements in above 2 sets\n",
    "# we can use '&' (and) for intersection and '|' (or) for union between 2 sets\n",
    "set3 = set1 & set2 \n",
    "print(set3)"
   ]
  },
  {
   "cell_type": "code",
   "execution_count": null,
   "metadata": {
    "id": "e1tu0c0woNkB"
   },
   "outputs": [],
   "source": [
    "# b. Find the elements that are not common\n",
    "set4 = set()\n",
    "for i in set1:\n",
    "    if i not in set2:\n",
    "        set4.add(i)\n",
    "for j in set2:\n",
    "    if j not in set1:\n",
    "        set4.add(j)\n",
    "print(set4)"
   ]
  },
  {
   "cell_type": "code",
   "execution_count": null,
   "metadata": {
    "id": "QL08aTnroNkC"
   },
   "outputs": [],
   "source": [
    "# c. Remove element 7 from both the sets\n",
    "set1.remove(7)\n",
    "set2.remove(7)\n",
    "print(set1)\n",
    "print(\"___________\")\n",
    "print(set2)"
   ]
  },
  {
   "cell_type": "markdown",
   "metadata": {
    "id": "xaji6NRMoNkC"
   },
   "source": [
    "## Problem3"
   ]
  },
  {
   "cell_type": "markdown",
   "metadata": {
    "id": "3tXGiIcBoNkD"
   },
   "source": [
    "#### Create a data dictionary of 5 states having name as key and number of covid-19 cases as values.\n",
    "#### a. Print only state names from the dictionary\n",
    "#### b. Update the dictionary with another country and it’s covid-19 cases"
   ]
  },
  {
   "cell_type": "code",
   "execution_count": null,
   "metadata": {
    "id": "csyK2PCIoNkE"
   },
   "outputs": [],
   "source": [
    "states = {\"maharashtra\":4000, 'bihar':3000, 'rajasthan':2000, 'kerala':5000, 'punjab':1500}\n",
    "print(states)"
   ]
  },
  {
   "cell_type": "code",
   "execution_count": null,
   "metadata": {
    "id": "9GAKUYQtoNkE"
   },
   "outputs": [],
   "source": [
    "# a. Print only state names from the dictionary\n",
    "states.keys()"
   ]
  },
  {
   "cell_type": "code",
   "execution_count": null,
   "metadata": {
    "id": "wvKkukmYoNkF"
   },
   "outputs": [],
   "source": [
    "# b. Update the dictionary with another country and it’s covid-19 cases\n",
    "states['Assam'] = 1000\n",
    "print(states)"
   ]
  }
 ],
 "metadata": {
  "colab": {
   "name": "Assignment-1 Mod-1 Data Types.ipynb",
   "provenance": [],
   "toc_visible": true
  },
  "kernelspec": {
   "display_name": "Python 3 (ipykernel)",
   "language": "python",
   "name": "python3"
  },
  "language_info": {
   "codemirror_mode": {
    "name": "ipython",
    "version": 3
   },
   "file_extension": ".py",
   "mimetype": "text/x-python",
   "name": "python",
   "nbconvert_exporter": "python",
   "pygments_lexer": "ipython3",
   "version": "3.9.12"
  }
 },
 "nbformat": 4,
 "nbformat_minor": 1
}
